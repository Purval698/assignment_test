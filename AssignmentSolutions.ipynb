{
 "cells": [
  {
   "cell_type": "markdown",
   "id": "9e289c59",
   "metadata": {},
   "source": [
    "### Please provide steps to convert an epoch Timestamp to\n",
    "###  Datetime value\n",
    "###  Date value\n"
   ]
  },
  {
   "cell_type": "code",
   "execution_count": 2,
   "id": "8744bcfd",
   "metadata": {},
   "outputs": [],
   "source": [
    "import pandas as pd\n",
    "import numpy as np\n",
    "from datetime import datetime, date\n",
    "import matplotlib.pyplot as plt\n",
    "import seaborn as sns"
   ]
  },
  {
   "cell_type": "code",
   "execution_count": 3,
   "id": "3dafa6c0",
   "metadata": {},
   "outputs": [],
   "source": [
    "epoch_timestamps = [1640995200, 1641081600, 1641168000, 1641254400, 1641340800]"
   ]
  },
  {
   "cell_type": "code",
   "execution_count": 4,
   "id": "2691bdd1",
   "metadata": {},
   "outputs": [],
   "source": [
    "df = pd.DataFrame({'epoch_timestamp': epoch_timestamps})"
   ]
  },
  {
   "cell_type": "code",
   "execution_count": 6,
   "id": "fb544e3a",
   "metadata": {},
   "outputs": [
    {
     "data": {
      "text/html": [
       "<div>\n",
       "<style scoped>\n",
       "    .dataframe tbody tr th:only-of-type {\n",
       "        vertical-align: middle;\n",
       "    }\n",
       "\n",
       "    .dataframe tbody tr th {\n",
       "        vertical-align: top;\n",
       "    }\n",
       "\n",
       "    .dataframe thead th {\n",
       "        text-align: right;\n",
       "    }\n",
       "</style>\n",
       "<table border=\"1\" class=\"dataframe\">\n",
       "  <thead>\n",
       "    <tr style=\"text-align: right;\">\n",
       "      <th></th>\n",
       "      <th>epoch_timestamp</th>\n",
       "      <th>datetime_value</th>\n",
       "    </tr>\n",
       "  </thead>\n",
       "  <tbody>\n",
       "    <tr>\n",
       "      <th>0</th>\n",
       "      <td>1640995200</td>\n",
       "      <td>2022-01-01</td>\n",
       "    </tr>\n",
       "    <tr>\n",
       "      <th>1</th>\n",
       "      <td>1641081600</td>\n",
       "      <td>2022-01-02</td>\n",
       "    </tr>\n",
       "    <tr>\n",
       "      <th>2</th>\n",
       "      <td>1641168000</td>\n",
       "      <td>2022-01-03</td>\n",
       "    </tr>\n",
       "    <tr>\n",
       "      <th>3</th>\n",
       "      <td>1641254400</td>\n",
       "      <td>2022-01-04</td>\n",
       "    </tr>\n",
       "    <tr>\n",
       "      <th>4</th>\n",
       "      <td>1641340800</td>\n",
       "      <td>2022-01-05</td>\n",
       "    </tr>\n",
       "  </tbody>\n",
       "</table>\n",
       "</div>"
      ],
      "text/plain": [
       "   epoch_timestamp datetime_value\n",
       "0       1640995200     2022-01-01\n",
       "1       1641081600     2022-01-02\n",
       "2       1641168000     2022-01-03\n",
       "3       1641254400     2022-01-04\n",
       "4       1641340800     2022-01-05"
      ]
     },
     "execution_count": 6,
     "metadata": {},
     "output_type": "execute_result"
    }
   ],
   "source": [
    "## Converting to Datetime value\n",
    "df['datetime_value'] = pd.to_datetime(df['epoch_timestamp'], unit='s')\n",
    "df.head()"
   ]
  },
  {
   "cell_type": "code",
   "execution_count": 7,
   "id": "8234db8d",
   "metadata": {},
   "outputs": [
    {
     "data": {
      "text/html": [
       "<div>\n",
       "<style scoped>\n",
       "    .dataframe tbody tr th:only-of-type {\n",
       "        vertical-align: middle;\n",
       "    }\n",
       "\n",
       "    .dataframe tbody tr th {\n",
       "        vertical-align: top;\n",
       "    }\n",
       "\n",
       "    .dataframe thead th {\n",
       "        text-align: right;\n",
       "    }\n",
       "</style>\n",
       "<table border=\"1\" class=\"dataframe\">\n",
       "  <thead>\n",
       "    <tr style=\"text-align: right;\">\n",
       "      <th></th>\n",
       "      <th>epoch_timestamp</th>\n",
       "      <th>datetime_value</th>\n",
       "      <th>date_value</th>\n",
       "    </tr>\n",
       "  </thead>\n",
       "  <tbody>\n",
       "    <tr>\n",
       "      <th>0</th>\n",
       "      <td>1640995200</td>\n",
       "      <td>2022-01-01</td>\n",
       "      <td>2022-01-01</td>\n",
       "    </tr>\n",
       "    <tr>\n",
       "      <th>1</th>\n",
       "      <td>1641081600</td>\n",
       "      <td>2022-01-02</td>\n",
       "      <td>2022-01-02</td>\n",
       "    </tr>\n",
       "    <tr>\n",
       "      <th>2</th>\n",
       "      <td>1641168000</td>\n",
       "      <td>2022-01-03</td>\n",
       "      <td>2022-01-03</td>\n",
       "    </tr>\n",
       "    <tr>\n",
       "      <th>3</th>\n",
       "      <td>1641254400</td>\n",
       "      <td>2022-01-04</td>\n",
       "      <td>2022-01-04</td>\n",
       "    </tr>\n",
       "    <tr>\n",
       "      <th>4</th>\n",
       "      <td>1641340800</td>\n",
       "      <td>2022-01-05</td>\n",
       "      <td>2022-01-05</td>\n",
       "    </tr>\n",
       "  </tbody>\n",
       "</table>\n",
       "</div>"
      ],
      "text/plain": [
       "   epoch_timestamp datetime_value  date_value\n",
       "0       1640995200     2022-01-01  2022-01-01\n",
       "1       1641081600     2022-01-02  2022-01-02\n",
       "2       1641168000     2022-01-03  2022-01-03\n",
       "3       1641254400     2022-01-04  2022-01-04\n",
       "4       1641340800     2022-01-05  2022-01-05"
      ]
     },
     "execution_count": 7,
     "metadata": {},
     "output_type": "execute_result"
    }
   ],
   "source": [
    "## Converting to Date value\n",
    "df['date_value'] = df['datetime_value'].dt.date\n",
    "df.head()"
   ]
  },
  {
   "cell_type": "code",
   "execution_count": 8,
   "id": "eca6ae12",
   "metadata": {},
   "outputs": [],
   "source": [
    "#Using seaborn and matplotlib for the Visualization of data\n",
    "np.random.seed(42)\n",
    "dates = pd.date_range('2024-01-01', periods=30, freq='D')\n",
    "values = np.random.randn(30).cumsum() + 100\n",
    "\n",
    "time_series_df = pd.DataFrame({\n",
    "    'date': dates,\n",
    "    'value': values\n",
    "})"
   ]
  },
  {
   "cell_type": "code",
   "execution_count": 15,
   "id": "b1da80b4",
   "metadata": {},
   "outputs": [
    {
     "data": {
      "image/png": "[encoded data removed]",
      "text/plain": [
       "<Figure size 864x432 with 1 Axes>"
      ]
     },
     "metadata": {
      "needs_background": "light"
     },
     "output_type": "display_data"
    }
   ],
   "source": [
    "plt.figure(figsize=(12, 6))\n",
    "plt.plot(time_series_df['date'], time_series_df['value'], marker='o', linewidth=2)\n",
    "plt.title('Time Series Data Visualization')\n",
    "plt.xlabel('Date')\n",
    "plt.ylabel('Value')\n",
    "plt.xticks(rotation=45)\n",
    "plt.tight_layout()\n",
    "plt.show()"
   ]
  },
  {
   "cell_type": "markdown",
   "id": "d6f7ca38",
   "metadata": {},
   "source": [
    "## This is Snowflake approach solution for converting date time value\n"
   ]
  },
  {
   "cell_type": "code",
   "execution_count": null,
   "id": "986d5fcd",
   "metadata": {},
   "outputs": [],
   "source": [
    "#Table creation in snowflake\n",
    "CREATE OR REPLACE TABLE epoch_data (\n",
    "    id NUMBER AUTOINCREMENT,\n",
    "    epoch_timestamp NUMBER\n",
    ");\n",
    "\n",
    "#Inserting the values into table\n",
    "-- Insert sample data\n",
    "INSERT INTO epoch_data (epoch_timestamp) VALUES\n",
    "(1640995200),\n",
    "(1641081600),\n",
    "(1641168000),\n",
    "(1641254400),\n",
    "(1641340800);"
   ]
  },
  {
   "cell_type": "code",
   "execution_count": null,
   "id": "36889d64",
   "metadata": {},
   "outputs": [],
   "source": [
    "#Query for convrting DateTime value\n",
    "SELECT \n",
    "    epoch_timestamp,\n",
    "    TO_TIMESTAMP_NTZ(epoch_timestamp) AS datetime_value,\n",
    "FROM epoch_data;"
   ]
  },
  {
   "cell_type": "code",
   "execution_count": null,
   "id": "331f5847",
   "metadata": {},
   "outputs": [],
   "source": [
    "# Query for converting Date value\n",
    "SELECT \n",
    "    epoch_timestamp,\n",
    "    TO_DATE(TO_TIMESTAMP_NTZ(epoch_timestamp)) AS date_value\n",
    "FROM epoch_data;"
   ]
  },
  {
   "cell_type": "markdown",
   "id": "a764b34c",
   "metadata": {},
   "source": [
    "## for achieving “Desired Result” sheet format. Constraints to solution\n",
    "## are mentioned below"
   ]
  },
  {
   "cell_type": "code",
   "execution_count": 18,
   "id": "75fe6433",
   "metadata": {},
   "outputs": [],
   "source": [
    "#For the Excel sheet Problem \n",
    "#Use below formula in sheet 4 at column C\n",
    "=INDEX({\"a\",\"b\",\"c\",\"d\"},MATCH(B1,{\"i\",\"ii\",\"iii\",\"iv\"},0))\n",
    "#this will generate a,b,c,d in column C\n",
    "=UPPER(B1)\n",
    "#this above formula will generate the roman with uppar case"
   ]
  },
  {
   "cell_type": "code",
   "execution_count": null,
   "id": "f0714614",
   "metadata": {},
   "outputs": [],
   "source": []
  }
 ],
 "metadata": {
  "kernelspec": {
   "display_name": "Python 3 (ipykernel)",
   "language": "python",
   "name": "python3"
  },
  "language_info": {
   "codemirror_mode": {
    "name": "ipython",
    "version": 3
   },
   "file_extension": ".py",
   "mimetype": "text/x-python",
   "name": "python",
   "nbconvert_exporter": "python",
   "pygments_lexer": "ipython3",
   "version": "3.9.12"
  }
 },
 "nbformat": 4,
 "nbformat_minor": 5
}
